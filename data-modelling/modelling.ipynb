{
 "cells": [
  {
   "cell_type": "code",
   "execution_count": null,
   "metadata": {},
   "outputs": [],
   "source": [
    "import pandas as pd\n",
    "import numpy as np\n",
    "import matplotlib.pyplot as plt\n",
    "import pickle\n",
    "from sklearn.preprocessing import StandardScaler,LabelEncoder,OneHotEncoder\n",
    "from sklearn.model_selection import cross_val_score,StratifiedKFold,RandomizedSearchCV\n",
    "from sklearn.linear_model import LogisticRegression\n",
    "from sklearn.ensemble import RandomForestClassifier\n",
    "from sklearn.svm import SVC\n",
    "from sklearn.tree import DecisionTreeClassifier\n",
    "from sklearn.neighbors import KNeighborsClassifier\n",
    "from sklearn.naive_bayes import GaussianNB"
   ]
  },
  {
   "cell_type": "code",
   "execution_count": null,
   "metadata": {},
   "outputs": [],
   "source": [
    "circuits = pd.read_csv(\"../data/circuits.csv\")\n",
    "constructors = pd.read_csv(\"../data/constructors.csv\")\n",
    "drivers = pd.read_csv(\"../data/drivers.csv\")\n",
    "qualification = pd.read_csv(\"../data/qualifying.csv\")\n",
    "races = pd.read_csv(\"../data/races.csv\")\n",
    "results = pd.read_csv(\"../data/results.csv\")\n",
    "seasons = pd.read_csv(\"../data/seasons.csv\")"
   ]
  },
  {
   "cell_type": "code",
   "execution_count": null,
   "metadata": {},
   "outputs": [],
   "source": [
    "#merge files\n",
    "\n",
    "dataframe_1 = pd.merge(drivers,qualification,how='inner', on=['driverId'])\n",
    "dataframe_2 = pd.merge(dataframe_1, results, how=\"inner\", on =[\"driverId\", \"raceId\", \"constructorId\"])\n",
    "dataframe_3 = pd.merge(dataframe_2, constructors, how=\"inner\", on=[\"constructorId\"])\n",
    "dataframe_4 = pd.merge(dataframe_3, races, how=\"inner\", on=['raceId'])\n",
    "dataframe_5 = pd.merge(dataframe_4, circuits, how=\"inner\", on=[\"circuitId\"])"
   ]
  },
  {
   "cell_type": "code",
   "execution_count": null,
   "metadata": {},
   "outputs": [],
   "source": [
    "# print(dataframe_5.columns)\n",
    "final_data = dataframe_5.drop(['number_x','url_x', 'qualifyId', \n",
    "       'number_y', 'q1', 'q2', 'q3', 'position_y', 'positionText', 'positionOrder', \n",
    "       'time_x', 'milliseconds', 'fastestLap', 'rank', 'fastestLapTime',\n",
    "       'fastestLapSpeed', 'url_y', 'name_y', 'time_y', 'url_x',\n",
    "       'lat', 'lng', 'alt', 'url_y'],axis=1)"
   ]
  },
  {
   "cell_type": "code",
   "execution_count": null,
   "metadata": {},
   "outputs": [],
   "source": [
    "\n",
    "final_data.rename(columns={'name':'GP_name','position_x':'position','name_x':'constructor','nationality_x':'driver_nationality','nationality_y':'constructor_nationality'},inplace=True)\n",
    "# final_data.to_csv(\"data_merged.csv\")"
   ]
  },
  {
   "cell_type": "code",
   "execution_count": 420,
   "metadata": {},
   "outputs": [
    {
     "name": "stdout",
     "output_type": "stream",
     "text": [
      "Index(['driverId', 'driverRef', 'code', 'forename', 'surname', 'dob',\n",
      "       'driver_nationality', 'raceId', 'constructorId', 'position', 'resultId',\n",
      "       'number', 'grid', 'points', 'laps', 'statusId', 'constructorRef',\n",
      "       'constructor', 'constructor_nationality', 'year', 'round', 'circuitId',\n",
      "       'date', 'circuitRef', 'GP_name', 'location', 'country', 'driver',\n",
      "       'ageDuringRace', 'Drivers'],\n",
      "      dtype='object')\n"
     ]
    }
   ],
   "source": [
    "print(final_data.columns)\n",
    "#changing the names of the constructors who have changed their team names\n",
    "final_data['constructor'] = final_data['constructor'].apply(lambda x: 'Astin Martin' if x=='Force India' or x==\"Racing Point\" else x)\n",
    "final_data['constructor'] = final_data['constructor'].apply(lambda x: 'Alfa Romeo' if x=='BMW Sauber' else x)\n",
    "final_data['constructor'] = final_data['constructor'].apply(lambda x: 'Alpine' if x=='Lotus F1' or x==\"Renault\" else x)\n",
    "final_data['constructor'] = final_data['constructor'].apply(lambda x: 'AlphaTauri' if x=='Toro Rosso' else x)\n",
    "# print(final_data[\"constructor\"].unique())"
   ]
  },
  {
   "cell_type": "code",
   "execution_count": null,
   "metadata": {},
   "outputs": [],
   "source": [
    "#Driver name\n",
    "final_data[\"driver\"] = final_data[\"forename\"] + final_data[\"surname\"]"
   ]
  },
  {
   "cell_type": "code",
   "execution_count": null,
   "metadata": {},
   "outputs": [],
   "source": [
    "#Calculating the age of driver during the race\n",
    "final_data[\"dob\"] = pd.to_datetime(final_data[\"dob\"])\n",
    "final_data[\"date\"] = pd.to_datetime(final_data[\"date\"])\n",
    "final_data[\"ageDuringRace\"] = abs(final_data[\"dob\"] - final_data[\"date\"])\n",
    "final_data[\"ageDuringRace\"] = final_data[\"ageDuringRace\"].apply(lambda x: str(x).split(\" \")[0])\n",
    "final_data[\"ageDuringRace\"] = final_data[\"ageDuringRace\"].astype(\"int64\") #changing to int type\n"
   ]
  },
  {
   "cell_type": "code",
   "execution_count": null,
   "metadata": {},
   "outputs": [],
   "source": [
    "age_vs_points = final_data[['driver', 'ageDuringRace', 'points']].copy()\n",
    "age_vs_points.isnull().sum()\n",
    "age_vs_points.dropna(inplace=True)\n",
    "#converting to age\n",
    "age_vs_points[\"ageDuringRace\"] = age_vs_points[\"ageDuringRace\"].apply(lambda age: age//365)"
   ]
  },
  {
   "cell_type": "code",
   "execution_count": null,
   "metadata": {},
   "outputs": [],
   "source": [
    "# exporting the age and points for all the drivers \n",
    "#  age_vs_points.to_csv(\"age_vs_points.csv\")\n"
   ]
  },
  {
   "cell_type": "code",
   "execution_count": null,
   "metadata": {},
   "outputs": [],
   "source": [
    "age_vs_points = pd.read_csv(\"age_vs_points.csv\")\n",
    "\n",
    "#summing up all the points for a particular age\n",
    "age = age_vs_points.ageDuringRace.unique()\n",
    "points = []\n",
    "for i in age:\n",
    "    points.append(age_vs_points[age_vs_points[\"ageDuringRace\"] == i].points.sum())"
   ]
  },
  {
   "cell_type": "code",
   "execution_count": null,
   "metadata": {},
   "outputs": [],
   "source": [
    "#correlation between age and points won during a race\n",
    "x = age\n",
    "y = points\n",
    "plt.scatter(x, y)\n",
    "plt.xlabel('age during race')\n",
    "plt.ylabel(\"points\")\n",
    "plt.show()"
   ]
  },
  {
   "cell_type": "code",
   "execution_count": 421,
   "metadata": {},
   "outputs": [
    {
     "name": "stdout",
     "output_type": "stream",
     "text": [
      "Index(['driverId', 'driverRef', 'code', 'forename', 'surname', 'dob',\n",
      "       'driver_nationality', 'raceId', 'constructorId', 'position', 'resultId',\n",
      "       'number', 'grid', 'points', 'laps', 'statusId', 'constructorRef',\n",
      "       'constructor', 'constructor_nationality', 'year', 'round', 'circuitId',\n",
      "       'date', 'circuitRef', 'GP_name', 'location', 'country', 'driver',\n",
      "       'ageDuringRace', 'Drivers'],\n",
      "      dtype='object')\n"
     ]
    }
   ],
   "source": [
    "print(final_data.columns)"
   ]
  },
  {
   "cell_type": "code",
   "execution_count": null,
   "metadata": {},
   "outputs": [],
   "source": [
    "#scraping data for driver's height \n",
    "\n",
    "#Python program to scrape website \n",
    "#and save quotes from website\n",
    "import requests\n",
    "from bs4 import BeautifulSoup\n",
    "import csv\n",
    "   \n",
    "URL = \"https://racingnews365.com/2022-f1-drivers-height-and-weight\"\n",
    "r = requests.get(URL)\n",
    "   \n",
    "soup = BeautifulSoup(r.content, 'html.parser')\n",
    "table_body = soup.findChildren(\"tbody\")\n",
    "print(table_body)\n",
    "for row in table_body:\n",
    "    cells = row"
   ]
  }
 ],
 "metadata": {
  "interpreter": {
   "hash": "6af1fd57414b6873f6e90296e3b7ac9cf37371398001d1699ed49492ef564262"
  },
  "kernelspec": {
   "display_name": "Python 3.9.12 64-bit (windows store)",
   "language": "python",
   "name": "python3"
  },
  "language_info": {
   "codemirror_mode": {
    "name": "ipython",
    "version": 3
   },
   "file_extension": ".py",
   "mimetype": "text/x-python",
   "name": "python",
   "nbconvert_exporter": "python",
   "pygments_lexer": "ipython3",
   "version": "3.9.12"
  },
  "orig_nbformat": 4
 },
 "nbformat": 4,
 "nbformat_minor": 2
}
